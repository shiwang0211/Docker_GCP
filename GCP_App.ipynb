{
 "cells": [
  {
   "cell_type": "code",
   "execution_count": 1,
   "metadata": {},
   "outputs": [],
   "source": [
    "%load_ext autoreload\n",
    "%autoreload 2"
   ]
  },
  {
   "cell_type": "code",
   "execution_count": 2,
   "metadata": {},
   "outputs": [
    {
     "name": "stdout",
     "output_type": "stream",
     "text": [
      "/Users/shiwang/Desktop/Github/cloud_learn/flaskwebapp\n"
     ]
    }
   ],
   "source": [
    "cd ./flaskwebapp/"
   ]
  },
  {
   "cell_type": "code",
   "execution_count": 3,
   "metadata": {},
   "outputs": [],
   "source": [
    "#mnist_data = keras.datasets.mnist.load_data()\n",
    "#pickle.dump(mnist_data, open( \"mnist_data.p\", \"wb\" ) )"
   ]
  },
  {
   "cell_type": "markdown",
   "metadata": {},
   "source": [
    "# Copy model files"
   ]
  },
  {
   "cell_type": "code",
   "execution_count": 4,
   "metadata": {},
   "outputs": [],
   "source": [
    "!cp ../../deep_learning_practice/model/model_mnist_cnn.h5 ./model/model_mnist_cnn.h5\n",
    "!cp -r ../../nlp_practice/model/. ./model\n",
    "!cp ../../nlp_practice/script/sentiment_utils.py ./script/tmp_sentiment_utils.py"
   ]
  },
  {
   "cell_type": "markdown",
   "metadata": {},
   "source": [
    "# Scripts "
   ]
  },
  {
   "cell_type": "markdown",
   "metadata": {},
   "source": [
    "## Define utils"
   ]
  },
  {
   "cell_type": "code",
   "execution_count": 4,
   "metadata": {},
   "outputs": [
    {
     "name": "stdout",
     "output_type": "stream",
     "text": [
      "Overwriting ./script/imports.py\n"
     ]
    }
   ],
   "source": [
    "%%writefile ./script/imports.py\n",
    "import numpy as np\n",
    "import tensorflow as tf\n",
    "import keras\n",
    "import pickle\n",
    "import spacy\n",
    "import gensim\n",
    "import matplotlib\n",
    "matplotlib.use('Agg')\n",
    "import matplotlib.pyplot as plt\n",
    "nlp = spacy.load('en')\n",
    "from gensim.models import Phrases\n",
    "from gensim.models.phrases import Phraser\n",
    "from gensim import corpora\n",
    "bigram_model = Phraser.load('./model/phrase_model_bigram')\n",
    "trigram_model = Phraser.load('./model/phrase_model_trigram')\n",
    "dictionary = corpora.Dictionary.load('./model/dictionary')\n",
    "lstm_model = keras.models.load_model('./model/yelp_lstm_sentiment.h5')\n",
    "mnist_model = keras.models.load_model('./model/model_mnist_cnn.h5')"
   ]
  },
  {
   "cell_type": "code",
   "execution_count": 5,
   "metadata": {},
   "outputs": [],
   "source": [
    "!cat ./script/imports.py ./script/tmp_sentiment_utils.py > ./script/sentiment_utils.py"
   ]
  },
  {
   "cell_type": "markdown",
   "metadata": {},
   "source": [
    "## Define  `serve.py`"
   ]
  },
  {
   "cell_type": "code",
   "execution_count": 13,
   "metadata": {},
   "outputs": [
    {
     "name": "stdout",
     "output_type": "stream",
     "text": [
      "Overwriting serve.py\n"
     ]
    }
   ],
   "source": [
    "%%writefile serve.py\n",
    "\n",
    "## sentiment\n",
    "from script.sentiment_utils import *\n",
    "\n",
    "def serve_model_sentiment(x):\n",
    "    X = apply_phrase_model([x])\n",
    "    X = np.array([dictionary.doc2idx(pad_trim_review(x), unknown_word_index=len(dictionary)) for x in X])\n",
    "    prediction = lstm_model.predict(X)\n",
    "    return str(prediction[0][0])\n",
    "\n",
    "## mnist\n",
    "def get_mnist_data():\n",
    "    mnist_data = pickle.load( open( \"mnist_data.p\", \"rb\" ) )\n",
    "    (X_train, y_train), (X_test, y_test) = mnist_data \n",
    "    X = X_test.reshape(X_test.shape[0], 28, 28, 1)\n",
    "    X = X.astype('float32')\n",
    "    X /= 255\n",
    "    return X_test, X\n",
    "\n",
    "def plot_4_digits(imgs):\n",
    "    plt.figure(figsize=(2, 2))\n",
    "    for i in range(4):\n",
    "        img = imgs[i]\n",
    "        plt.subplot(2, 2, i+1)\n",
    "        plt.imshow(img, cmap='gray')\n",
    "        plt.xticks([])\n",
    "        plt.yticks([])\n",
    "    plt.tight_layout()\n",
    "    return plt\n",
    "\n",
    "def serve_model_mnist(random_index):\n",
    "    raw_X, processed_X = get_mnist_data()\n",
    "    raw_X, processed_X = raw_X[random_index], processed_X[random_index]\n",
    "    plot = plot_4_digits(raw_X)\n",
    "    prediction = np.argmax(mnist_model.predict(processed_X), axis=1)\n",
    "    return plot, str(prediction)"
   ]
  },
  {
   "cell_type": "code",
   "execution_count": 7,
   "metadata": {},
   "outputs": [
    {
     "name": "stderr",
     "output_type": "stream",
     "text": [
      "Using TensorFlow backend.\n"
     ]
    }
   ],
   "source": [
    "from serve import *"
   ]
  },
  {
   "cell_type": "markdown",
   "metadata": {},
   "source": [
    "## Define `app.py`"
   ]
  },
  {
   "cell_type": "code",
   "execution_count": 112,
   "metadata": {},
   "outputs": [
    {
     "name": "stdout",
     "output_type": "stream",
     "text": [
      "Overwriting app.py\n"
     ]
    }
   ],
   "source": [
    "%%writefile app.py\n",
    "import os\n",
    "import sys\n",
    "from flask import Flask, render_template, flash, abort,redirect, request,g,url_for, session, make_response, jsonify, send_file\n",
    "from serve import *\n",
    "import random\n",
    "\n",
    "app = Flask(__name__)\n",
    "app.secret_key = \"super secret key\"\n",
    "\n",
    "@app.errorhandler(404)\n",
    "def not_found(error):\n",
    "    return make_response(jsonify({'error': 'Not found'}), 404)\n",
    "\n",
    "@app.route('/api/test')\n",
    "def test():\n",
    "    return jsonify(result = \"ok\")\n",
    "\n",
    "@app.route('/api/test2')\n",
    "def test2():\n",
    "    raw_X, processed_X = get_4_samples()\n",
    "    predictions = serve_model_mnist(processed_X)\n",
    "    return jsonify(result = str(predictions))\n",
    "\n",
    "@app.route('/')\n",
    "@app.route('/index')\n",
    "def begin():\n",
    "    return render_template('base.html')\n",
    "\n",
    "@app.route('/mnist')\n",
    "def mnist():\n",
    "    random_index = random.choices(range(10000),k=4)\n",
    "    f_path = './static/images/' + '-'.join([str(x) for x in random_index]) + '.png'\n",
    "    plot, prediction = serve_model_mnist(random_index)\n",
    "    plot.savefig(f_path)\n",
    "    flash('The predicted digits are ' + prediction)\n",
    "    return render_template('mnist.html', url = f_path)\n",
    "\n",
    "@app.route('/sentiment')\n",
    "def sentiment():\n",
    "    return render_template('sentiment.html')\n",
    "\n",
    "@app.route('/submit_number', methods = ['POST'])\n",
    "def submit_number():\n",
    "    return redirect('/mnist')\n",
    "    \n",
    "@app.route('/submit_text', methods = ['POST'])\n",
    "def submit_text():\n",
    "    input_text = request.form['input_text']\n",
    "    result = serve_model_sentiment(input_text)\n",
    "    flash('The predicted star is ' + result)\n",
    "    return redirect('/sentiment')\n",
    "\n",
    "if __name__ == '__main__':\n",
    "    app.run(host='0.0.0.0',port=80)"
   ]
  },
  {
   "cell_type": "markdown",
   "metadata": {},
   "source": [
    "## Define html files"
   ]
  },
  {
   "cell_type": "code",
   "execution_count": 187,
   "metadata": {},
   "outputs": [
    {
     "name": "stdout",
     "output_type": "stream",
     "text": [
      "Overwriting ./templates/base.html\n"
     ]
    }
   ],
   "source": [
    "%%writefile ./templates/base.html\n",
    "\n",
    "<!DOCTYPE html>\n",
    "<html>\n",
    "<head>\n",
    "\t<title> Welcome to My API</title>\n",
    "\t<meta name=\"viewport\" content=\"width=device-width, initial-scale=1.0\">\n",
    "\t<script type=\"text/javascript\" src = \"{{ url_for('static', filename = 'hello.js') }}\"></script>\n",
    "\t<link rel=stylesheet type=text/css href=\"{{ url_for('static', filename='bootstrap-min.css')}}\">\n",
    "\t<link rel=stylesheet type=text/css href=\"{{ url_for('static', filename='jumbotron-narrow.css')}}\">\n",
    "\t<link rel=stylesheet type=text/css href=\"{{ url_for('static', filename='style.css')}}\">\n",
    "</head>\n",
    "\n",
    "\n",
    "<body>\n",
    "\t<div class = \"container\">\n",
    "\t\t<div class=\"header\">\n",
    "\t\t\t<nav>\n",
    "\t\t\t\t<ul class=\"nav nav-pills pull-right\">\n",
    "\t\t\t\t\t<li role = \"presentation\" class = \"active\"><a href=\"/\">Home</a>\n",
    "\t\t\t\t</ul>\n",
    "\t\t\t</nav>\n",
    "\t\t\t<h3 class=\"text-muted\">ML applications</h3>\n",
    "\t\t</div>\n",
    "\n",
    "        <div class=\"row marketing\">\n",
    "\t\t\t<div class=\"col-lg-6\">\n",
    "\t\t\t\t<h4> Image Classification</h4>\n",
    "\t\t\t\t<p>A CNN model to classify hand-written digits. The example is adapted from tutorials on tensorflow official site. Network includes convolutional layer, Maxpooling layer, Dropout layer and Dense layer. The model is implemented with Keras. </p>\n",
    "\t\t\t</div>\n",
    "            \n",
    "            <div class=\"col-lg-6\">\n",
    "\t\t\t\t<h4> Sentiment Analysis</h4>\n",
    "\t\t\t\t<p>A LSTM model to predict the rating based on comment texts. The model is built based on some yelp review datasets. The NLP workflow includes preprocessing (tokenization lemmatization and stop word removal), phrase modeling and lstm model implemented with Keras. </p>\n",
    "\t\t\t</div>\n",
    "\t\t</div>\n",
    "        \n",
    "\n",
    "\t\t\t<h3>Services</h3>\n",
    "\t\t\t<p class=\"lead\"></p>\n",
    "\t\t\t<p><a class=\"btn btn-sm btn-success\" href=\"{{ url_for('mnist') }}\"\n",
    "\t\t\t\t   role=\"button\"> Image Classification</a></p>\n",
    "\t\t\t<p><a class=\"btn btn-sm btn-success\" href=\"{{ url_for('sentiment') }}\"\n",
    "\t\t\t\t   role=\"button\"> Sentiment Analysis</a></p>\n",
    "\n",
    "        \n",
    "        <div class=\"row marketing\">\n",
    "\t\t\t<div class=\"col-lg-6\">\n",
    "                {% block body %}\n",
    "                {% endblock %}\n",
    "                \n",
    "                {% for message in get_flashed_messages() %}\n",
    "                    <div class=flash><font color=\"red\">{{ message }}</font></div>\n",
    "                {% endfor %}\n",
    "\t\t\t</div>\n",
    "            \n",
    "\t\t\t<div class=\"col-lg-6\">\n",
    "\t\t\t\t<h4>Contact</h4>\n",
    "                <a href=\"https://github.com/shiwang0211\">https://github.com/shiwang0211</a>\n",
    "\t\t\t\t<p>shiwang0211@gmail.com</p>\n",
    "\t\t\t</div>\n",
    "\t\t</div>\n",
    "\n",
    "\t\t<footer class=\"footer\" >\n",
    "\t\t\t<p>&copy; Shi Wang 2018</p>\n",
    "\t\t</footer>\n",
    "\n",
    "\n",
    "\t</div>\n",
    "</body>\n",
    "</html>"
   ]
  },
  {
   "cell_type": "code",
   "execution_count": 188,
   "metadata": {},
   "outputs": [
    {
     "name": "stdout",
     "output_type": "stream",
     "text": [
      "Overwriting ./templates/mnist.html\n"
     ]
    }
   ],
   "source": [
    "%%writefile ./templates/mnist.html\n",
    "\n",
    "{% extends \"base.html\" %}\n",
    "{% block body %}\n",
    "\n",
    "<p>You can click to change a set of random numbers</p>\n",
    "    <form action=\"{{ url_for('submit_number') }}\" method=post class=add-entry>\n",
    "      <dl>\n",
    "        <dd><input type=submit value=Change>\n",
    "      </dl>\n",
    "    </form>\n",
    "    \n",
    "<img src={{ url }} alt=\"Chart\" height=\"150\" width=\"150\">\n",
    "\n",
    "{% endblock %}"
   ]
  },
  {
   "cell_type": "code",
   "execution_count": 189,
   "metadata": {},
   "outputs": [
    {
     "name": "stdout",
     "output_type": "stream",
     "text": [
      "Overwriting ./templates/sentiment.html\n"
     ]
    }
   ],
   "source": [
    "%%writefile ./templates/sentiment.html\n",
    "\n",
    "{% extends \"base.html\" %}\n",
    "{% block body %}\n",
    "\n",
    "    <p>You can type in your comment text</p>\n",
    "    <form action=\"{{ url_for('submit_text') }}\" method=post class=add-entry>\n",
    "      <dl>\n",
    "        <dt>Input Text:\n",
    "        <dd><input type=text size=30 name=input_text>\n",
    "        <dd><input type=submit value=Submit>\n",
    "      </dl>\n",
    "    </form>\n",
    "\n",
    "{% endblock %}"
   ]
  },
  {
   "cell_type": "markdown",
   "metadata": {},
   "source": [
    "# Local test"
   ]
  },
  {
   "cell_type": "code",
   "execution_count": 194,
   "metadata": {
    "scrolled": true
   },
   "outputs": [
    {
     "name": "stdout",
     "output_type": "stream",
     "text": [
      "sha256:287ea3b18a1fe29db3a29cc2bd067b047e51c97accaa6fc48395add15e191358\r\n"
     ]
    }
   ],
   "source": [
    "!docker build -q -t ml_api:latest ."
   ]
  },
  {
   "cell_type": "code",
   "execution_count": 195,
   "metadata": {},
   "outputs": [
    {
     "name": "stdout",
     "output_type": "stream",
     "text": [
      "2769e015c4e0\n",
      "2769e015c4e0\n"
     ]
    }
   ],
   "source": [
    "!docker stop `docker ps -qa`\n",
    "!docker rm `docker ps -qa`"
   ]
  },
  {
   "cell_type": "code",
   "execution_count": 196,
   "metadata": {},
   "outputs": [
    {
     "name": "stdout",
     "output_type": "stream",
     "text": [
      "8cb7f8f5c071b40b7485a590c53cb4fd4457c26bad23f9c63983f1c93e9c192d\r\n"
     ]
    }
   ],
   "source": [
    "!docker run -d -it -p 5000:80 ml_api:latest"
   ]
  },
  {
   "cell_type": "code",
   "execution_count": 197,
   "metadata": {},
   "outputs": [
    {
     "name": "stdout",
     "output_type": "stream",
     "text": [
      "CONTAINER ID        IMAGE               COMMAND             CREATED                  STATUS                  PORTS                  NAMES\r\n",
      "8cb7f8f5c071        ml_api:latest       \"python app.py\"     Less than a second ago   Up Less than a second   0.0.0.0:5000->80/tcp   dreamy_albattani\r\n"
     ]
    }
   ],
   "source": [
    "!docker ps"
   ]
  },
  {
   "cell_type": "markdown",
   "metadata": {},
   "source": [
    "- http://localhost:5000/api/test\n",
    "- http://localhost:5000/index"
   ]
  },
  {
   "cell_type": "markdown",
   "metadata": {},
   "source": [
    "# Deploy"
   ]
  },
  {
   "cell_type": "markdown",
   "metadata": {},
   "source": [
    "see `Docker Learn.ipynb`"
   ]
  }
 ],
 "metadata": {
  "kernelspec": {
   "display_name": "Python [conda env:anaconda3]",
   "language": "python",
   "name": "conda-env-anaconda3-py"
  },
  "language_info": {
   "codemirror_mode": {
    "name": "ipython",
    "version": 3
   },
   "file_extension": ".py",
   "mimetype": "text/x-python",
   "name": "python",
   "nbconvert_exporter": "python",
   "pygments_lexer": "ipython3",
   "version": "3.6.5"
  },
  "toc": {
   "base_numbering": 1,
   "nav_menu": {},
   "number_sections": true,
   "sideBar": true,
   "skip_h1_title": false,
   "title_cell": "Table of Contents",
   "title_sidebar": "Contents",
   "toc_cell": false,
   "toc_position": {
    "height": "calc(100% - 180px)",
    "left": "10px",
    "top": "150px",
    "width": "325px"
   },
   "toc_section_display": true,
   "toc_window_display": true
  }
 },
 "nbformat": 4,
 "nbformat_minor": 2
}
