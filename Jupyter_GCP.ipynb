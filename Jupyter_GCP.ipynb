{
 "cells": [
  {
   "cell_type": "markdown",
   "metadata": {},
   "source": [
    "Reference:\n",
    "- https://hackernoon.com/launch-a-gpu-backed-google-compute-engine-instance-and-setup-tensorflow-keras-and-jupyter-902369ed5272"
   ]
  },
  {
   "cell_type": "markdown",
   "metadata": {},
   "source": [
    "# GCP"
   ]
  },
  {
   "cell_type": "markdown",
   "metadata": {},
   "source": [
    "Create gpu-enabled instance on GCP\n",
    "- provide ssh public key\n",
    "- set \"jupyter\" network tag\n",
    "- add firewall rule to enable port 8888 connection for \"jupyter\" network tag"
   ]
  },
  {
   "cell_type": "markdown",
   "metadata": {},
   "source": [
    "# Local"
   ]
  },
  {
   "cell_type": "markdown",
   "metadata": {},
   "source": [
    "Use gcloud command to ssh into instance"
   ]
  },
  {
   "cell_type": "markdown",
   "metadata": {},
   "source": [
    "---\n",
    "gcloud compute --project \"keen-hangar-197817\" ssh --zone \"us-west1-b\" \"instance-1\"\n",
    "\n",
    "---"
   ]
  },
  {
   "cell_type": "markdown",
   "metadata": {},
   "source": [
    "# Remote\n"
   ]
  },
  {
   "cell_type": "markdown",
   "metadata": {},
   "source": [
    "## Install `Miniconda`"
   ]
  },
  {
   "cell_type": "markdown",
   "metadata": {},
   "source": [
    "---\n",
    "cd /tmp\n",
    "\n",
    "curl -O https://repo.continuum.io/miniconda/Miniconda3-latest-Linux-x86_64.sh\n",
    "\n",
    "bash Miniconda3-latest-Linux-x86_64.sh\n",
    "\n",
    "source ~/.bashrc\n",
    "\n",
    "----"
   ]
  },
  {
   "cell_type": "markdown",
   "metadata": {},
   "source": [
    "## Installing `CUDA` Toolkit (`9.0`)"
   ]
  },
  {
   "cell_type": "markdown",
   "metadata": {},
   "source": [
    "- Follow instructions on: \n",
    "\n",
    "https://developer.nvidia.com/cuda-90-download-archive?target_os=Linux&target_arch=x86_64&target_distro=Ubuntu&target_version=1604&target_type=debnetwork"
   ]
  },
  {
   "cell_type": "markdown",
   "metadata": {},
   "source": [
    "---\n",
    "curl -O http://developer.download.nvidia.com/compute/cuda/repos/ubuntu1604/x86_64/cuda-repo-ubuntu1604_9.0.176-1_amd64.deb\n",
    "\n",
    "sudo dpkg -i cuda-repo-ubuntu1604_9.0.176-1_amd64.deb\n",
    "\n",
    "sudo apt-key adv --fetch-keys http://developer.download.nvidia.com/compute/cuda/repos/ubuntu1604/x86_64/7fa2af80.pub\n",
    "\n",
    "sudo apt-get update\n",
    "\n",
    "sudo apt-get install cuda-9-0\n",
    "\n",
    "---"
   ]
  },
  {
   "cell_type": "markdown",
   "metadata": {},
   "source": [
    "## Add path"
   ]
  },
  {
   "cell_type": "markdown",
   "metadata": {},
   "source": [
    "---\n",
    "cat <<EOF >> ~/.bashrc <br/>\n",
    "export CUDA_HOME=/usr/local/cuda-9.0 <br/>\n",
    "export LD_LIBRARY_PATH=\\${CUDA_HOME}/lib64 <br/>\n",
    "export PATH=\\${CUDA_HOME}/bin:\\${PATH} EOF <br/>\n",
    "source ~/.bashrc\n",
    "\n",
    "---"
   ]
  },
  {
   "cell_type": "markdown",
   "metadata": {},
   "source": [
    "## Verify driver"
   ]
  },
  {
   "cell_type": "markdown",
   "metadata": {},
   "source": [
    "nvidia-smi\n",
    "nvcc --version"
   ]
  },
  {
   "cell_type": "markdown",
   "metadata": {},
   "source": [
    "## Installing `cuDNN`"
   ]
  },
  {
   "cell_type": "markdown",
   "metadata": {},
   "source": [
    "**Local**"
   ]
  },
  {
   "cell_type": "markdown",
   "metadata": {},
   "source": [
    "Go to website to download:\n",
    "https://developer.nvidia.com/rdp/cudnn-download"
   ]
  },
  {
   "cell_type": "markdown",
   "metadata": {},
   "source": [
    "---\n",
    "cd ~/Downloads/\n",
    "\n",
    "---"
   ]
  },
  {
   "cell_type": "markdown",
   "metadata": {},
   "source": [
    "Upload file from local to remote"
   ]
  },
  {
   "cell_type": "markdown",
   "metadata": {},
   "source": [
    "---\n",
    "gcloud compute scp `local_file_path` instance-1:~/`remote_file_path`\n",
    "\n",
    "---"
   ]
  },
  {
   "cell_type": "markdown",
   "metadata": {},
   "source": [
    "**OR** download from elsewhere **Remote**"
   ]
  },
  {
   "cell_type": "markdown",
   "metadata": {},
   "source": [
    "---\n",
    "curl -O https://s3.amazonaws.com/open-source-william-falcon/cudnn-9.0-linux-x64-v7.1.tgz  \n",
    "\n",
    "tar xvzf cudnn-9.0-linux-x64-v7.1.tgz\n",
    "\n",
    "---"
   ]
  },
  {
   "cell_type": "markdown",
   "metadata": {},
   "source": [
    "copy the cuDNN library to the CUDA toolkit directory"
   ]
  },
  {
   "cell_type": "markdown",
   "metadata": {},
   "source": [
    "---\n",
    "sudo cp -P cuda/include/cudnn.h $CUDA_HOME/include\n",
    "\n",
    "sudo cp -P cuda/lib64/libcudnn* $CUDA_HOME/lib64\n",
    "\n",
    "sudo chmod u+w $CUDA_HOME/include/cudnn.h\n",
    "\n",
    "sudo chmod a+r $CUDA_HOME/lib64/libcudnn*\n",
    "\n",
    "---"
   ]
  },
  {
   "cell_type": "markdown",
   "metadata": {},
   "source": [
    "## Prepare virtual env\n"
   ]
  },
  {
   "cell_type": "markdown",
   "metadata": {},
   "source": [
    "**Local**"
   ]
  },
  {
   "cell_type": "code",
   "execution_count": 3,
   "metadata": {},
   "outputs": [
    {
     "name": "stdout",
     "output_type": "stream",
     "text": [
      "Overwriting environment-gpu.yml\n"
     ]
    }
   ],
   "source": [
    "%%writefile environment-gpu.yml\n",
    "name: carnd-term1\n",
    "channels:\n",
    "    - https://conda.anaconda.org/menpo\n",
    "    - conda-forge\n",
    "dependencies:\n",
    "    - python=3.6\n",
    "    - numpy\n",
    "    - matplotlib\n",
    "    - jupyter\n",
    "    - scikit-learn\n",
    "    - seaborn\n",
    "    - pandas\n",
    "    - pip:\n",
    "        - tensorflow-gpu\n",
    "        - keras"
   ]
  },
  {
   "cell_type": "markdown",
   "metadata": {},
   "source": [
    "Make dir on remote"
   ]
  },
  {
   "cell_type": "markdown",
   "metadata": {},
   "source": [
    "---\n",
    "mkdir /home/shiwang/test-gpu\n",
    "\n",
    "---"
   ]
  },
  {
   "cell_type": "markdown",
   "metadata": {},
   "source": [
    "copy to remote"
   ]
  },
  {
   "cell_type": "markdown",
   "metadata": {},
   "source": [
    "---\n",
    "gcloud compute scp environment-gpu.yml instance-1:/home/shiwang/test-gpu\n",
    "\n",
    "---"
   ]
  },
  {
   "cell_type": "markdown",
   "metadata": {},
   "source": [
    "Create virtual environment"
   ]
  },
  {
   "cell_type": "markdown",
   "metadata": {},
   "source": [
    "---\n",
    "conda env create -f environment-gpu.yml\n",
    "\n",
    "---\n"
   ]
  },
  {
   "cell_type": "markdown",
   "metadata": {},
   "source": [
    "Activate"
   ]
  },
  {
   "cell_type": "markdown",
   "metadata": {},
   "source": [
    "---\n",
    "source activate carnd-term1\n",
    "#source deactivate\n",
    "\n",
    "---"
   ]
  },
  {
   "cell_type": "markdown",
   "metadata": {},
   "source": [
    "## Config jupyter\n"
   ]
  },
  {
   "cell_type": "markdown",
   "metadata": {},
   "source": [
    "---\n",
    "jupyter notebook --generate-config\n",
    "\n",
    "nano ~/.jupyter/jupyter_notebook_config.py\n",
    "\n",
    "**CHANGE**:\n",
    "\n",
    "c.NotebookApp.ip = '*'\n",
    "\n",
    "#c.NotebookApp.ip = 'localhost'\n",
    "\n",
    "---"
   ]
  },
  {
   "cell_type": "markdown",
   "metadata": {},
   "source": [
    "Start Notebook"
   ]
  },
  {
   "cell_type": "markdown",
   "metadata": {},
   "source": [
    "- Remote: jupyter notebook\n",
    "- Local: http://35.233.241.85:8888/"
   ]
  },
  {
   "cell_type": "markdown",
   "metadata": {},
   "source": [
    "Note: Cannot be KPMG network !!!"
   ]
  },
  {
   "cell_type": "markdown",
   "metadata": {},
   "source": [
    "## Enable github\n"
   ]
  },
  {
   "cell_type": "markdown",
   "metadata": {},
   "source": [
    "Remote"
   ]
  },
  {
   "cell_type": "markdown",
   "metadata": {},
   "source": [
    "---\n",
    "ssh-keygen -o -a 100 -t ed25519 -f ~/.ssh/id_test_gpu -C shiwang@instance-1\n",
    "\n",
    "cat ~/.ssh/id_test_gpu.pub\n",
    "\n",
    "https://github.com/settings/keys\n",
    "\n",
    "\n",
    "\n",
    "---"
   ]
  },
  {
   "cell_type": "code",
   "execution_count": null,
   "metadata": {},
   "outputs": [],
   "source": []
  }
 ],
 "metadata": {
  "kernelspec": {
   "display_name": "Python [conda env:anaconda3]",
   "language": "python",
   "name": "conda-env-anaconda3-py"
  },
  "language_info": {
   "codemirror_mode": {
    "name": "ipython",
    "version": 3
   },
   "file_extension": ".py",
   "mimetype": "text/x-python",
   "name": "python",
   "nbconvert_exporter": "python",
   "pygments_lexer": "ipython3",
   "version": "3.6.5"
  },
  "toc": {
   "base_numbering": 1,
   "nav_menu": {},
   "number_sections": true,
   "sideBar": true,
   "skip_h1_title": false,
   "title_cell": "Table of Contents",
   "title_sidebar": "Contents",
   "toc_cell": false,
   "toc_position": {
    "height": "calc(100% - 180px)",
    "left": "10px",
    "top": "150px",
    "width": "293px"
   },
   "toc_section_display": true,
   "toc_window_display": true
  }
 },
 "nbformat": 4,
 "nbformat_minor": 2
}
